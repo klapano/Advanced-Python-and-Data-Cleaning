{
 "cells": [
  {
   "cell_type": "markdown",
   "id": "b3dfc2b6",
   "metadata": {},
   "source": [
    "# exercise 1"
   ]
  },
  {
   "cell_type": "code",
   "execution_count": 34,
   "id": "c55dc765",
   "metadata": {},
   "outputs": [
    {
     "data": {
      "text/plain": [
       "[('Jane', 'Doe', 20), ('John', 'Williams', 40), ('Jennifer', 'Smith', 30)]"
      ]
     },
     "execution_count": 34,
     "metadata": {},
     "output_type": "execute_result"
    }
   ],
   "source": [
    "first_names = ['Jane', 'John', 'Jennifer']\n",
    "last_names = ['Doe', 'Williams', 'Smith']\n",
    "ages = [20, 40, 30]\n",
    "\n",
    "\n",
    "#Use zip to iterate to all three lists and in a for loop and print each time the first name, last name and age.\n",
    "\n",
    "zipped =list(zip(first_names, last_names, ages))\n",
    "\n",
    "zipped"
   ]
  },
  {
   "cell_type": "code",
   "execution_count": 37,
   "id": "c029cad9",
   "metadata": {},
   "outputs": [
    {
     "name": "stdout",
     "output_type": "stream",
     "text": [
      "Jane, Doe, has an age: 20\n",
      "John, Williams, has an age: 40\n",
      "Jennifer, Smith, has an age: 30\n"
     ]
    }
   ],
   "source": [
    "for x,y,z in zipped:\n",
    "    print(f'{x}, {y}, has an age: {z}')"
   ]
  },
  {
   "cell_type": "markdown",
   "id": "a422c195",
   "metadata": {},
   "source": [
    "# exercise 2"
   ]
  },
  {
   "cell_type": "code",
   "execution_count": 150,
   "id": "0ce34f0a",
   "metadata": {},
   "outputs": [
    {
     "name": "stdout",
     "output_type": "stream",
     "text": [
      "profit for January is 5200.0\n",
      "profit for February is 5100.0\n",
      "profit for March is 4800.0\n",
      "profit for April is 16400.0\n",
      "profit for May is 4800.0\n",
      "profit for June is 3800.0\n",
      "profit for July is -9900.0\n",
      "profit for August is 25400.0\n",
      "profit for September is 9800.0\n",
      "profit for October is 20800.0\n",
      "profit for November is 1900.0\n"
     ]
    }
   ],
   "source": [
    "\n",
    "months = ['January', 'February', 'March', 'April', 'May', 'June', 'July', 'August', 'September', 'October', 'November', 'December']\n",
    "\n",
    "total_sales = [52000.00, 51000.00, 48000.00, 62000.0, 42000.0, 46000.0, 39000.0, 59000.0, 64000.0, 54000.0, 44000.0, 71000.0]\n",
    "\n",
    "prod_cost = [46800.00, 45900.00, 43200.00, 45600.00, 37200.00, 42200.00, 48900.00, 33600.00, 54200.00, 33200.00, 42100.00]\n",
    "\n",
    "\n",
    "#Calculate from the following lists the profit for each month. Identify the month with the highest profits (use zip).\n",
    "\n",
    "sales_lst = []\n",
    "for month, sales , costs in zip(months,total_sales,prod_cost):\n",
    "    profit = sales - costs\n",
    "    \n",
    "    print(f'profit for {month} is {profit}')"
   ]
  },
  {
   "cell_type": "code",
   "execution_count": 147,
   "id": "ead490a7",
   "metadata": {},
   "outputs": [
    {
     "ename": "NameError",
     "evalue": "name 'sales_lst' is not defined",
     "output_type": "error",
     "traceback": [
      "\u001b[1;31m---------------------------------------------------------------------------\u001b[0m",
      "\u001b[1;31mNameError\u001b[0m                                 Traceback (most recent call last)",
      "Input \u001b[1;32mIn [147]\u001b[0m, in \u001b[0;36m<cell line: 1>\u001b[1;34m()\u001b[0m\n\u001b[1;32m----> 1\u001b[0m \u001b[38;5;28msorted\u001b[39m(\u001b[43msales_lst\u001b[49m,key\u001b[38;5;241m=\u001b[39m\u001b[38;5;28;01mlambda\u001b[39;00m x:x[\u001b[38;5;241m1\u001b[39m], reverse\u001b[38;5;241m=\u001b[39m\u001b[38;5;28;01mTrue\u001b[39;00m)\n",
      "\u001b[1;31mNameError\u001b[0m: name 'sales_lst' is not defined"
     ]
    }
   ],
   "source": [
    "sorted(sales_lst,key=lambda x:x[1], reverse=True)"
   ]
  },
  {
   "cell_type": "markdown",
   "id": "515a16ec",
   "metadata": {},
   "source": [
    "# exercise 3"
   ]
  },
  {
   "cell_type": "code",
   "execution_count": 61,
   "id": "ffceb04e",
   "metadata": {},
   "outputs": [
    {
     "data": {
      "text/plain": [
       "['mary@gmail.com', 'hari@yahoo.com', 'sophia@qg.com', 'evan@yahoo.com']"
      ]
     },
     "execution_count": 61,
     "metadata": {},
     "output_type": "execute_result"
    }
   ],
   "source": [
    "#Use map function and lambda to make the email from the following list lowercase:\n",
    "\n",
    "lst = [\"Mary@GMAIL.com\", \"hari@YaHoo.com\", \"SopHIA@qg.com\", \"EVan@YahoO.COM\"]\n",
    "\n",
    "list(map(lambda x: x.lower(),lst))"
   ]
  },
  {
   "cell_type": "markdown",
   "id": "7fbbb63d",
   "metadata": {},
   "source": [
    "# exercise 4"
   ]
  },
  {
   "cell_type": "code",
   "execution_count": 152,
   "id": "a3eacce9",
   "metadata": {},
   "outputs": [
    {
     "data": {
      "text/plain": [
       "('pulp fiction', 154)"
      ]
     },
     "execution_count": 152,
     "metadata": {},
     "output_type": "execute_result"
    }
   ],
   "source": [
    "#Find the movie with the highest duration, use lambda function.\n",
    "\n",
    "movies = {'pulp fiction': 154, 'terminator': 107, 'aliens': 137, 'the lion king': 98, 'pink panther': 115}\n",
    "\n",
    "max(movies.items(), key = lambda x:x[1])"
   ]
  },
  {
   "cell_type": "code",
   "execution_count": 153,
   "id": "3ae79957",
   "metadata": {},
   "outputs": [
    {
     "data": {
      "text/plain": [
       "'pulp fiction'"
      ]
     },
     "execution_count": 153,
     "metadata": {},
     "output_type": "execute_result"
    }
   ],
   "source": [
    "max(movies, key = lambda x:movies[x])"
   ]
  },
  {
   "cell_type": "markdown",
   "id": "078a2d9f",
   "metadata": {},
   "source": [
    "# exercise 5"
   ]
  },
  {
   "cell_type": "code",
   "execution_count": 155,
   "id": "f0b4064d",
   "metadata": {},
   "outputs": [
    {
     "name": "stdout",
     "output_type": "stream",
     "text": [
      "[1, 3, 5, 7, 9, 11]\n"
     ]
    }
   ],
   "source": [
    "#Write a program to filter out the even numbers from a list of integers using Lambda.\n",
    "\n",
    "\n",
    "lst = [1, 2, 3, 4, 5, 6, 7, 8, 9, 10, 11, 12]\n",
    "\n",
    "even = list(filter(lambda x: x%2!=0, lst))\n",
    "print(even)"
   ]
  },
  {
   "cell_type": "code",
   "execution_count": 156,
   "id": "0c9e478a",
   "metadata": {},
   "outputs": [
    {
     "name": "stdout",
     "output_type": "stream",
     "text": [
      "[2, 4, 6, 8, 10, 12]\n"
     ]
    }
   ],
   "source": [
    "lst = [1, 2, 3, 4, 5, 6, 7, 8, 9, 10, 11, 12]\n",
    "\n",
    "even = list(filter(lambda x: x%2==0, lst))\n",
    "print(even)"
   ]
  },
  {
   "cell_type": "markdown",
   "id": "b69195ed",
   "metadata": {},
   "source": [
    "# exercise 6"
   ]
  },
  {
   "cell_type": "code",
   "execution_count": 75,
   "id": "af8384a4",
   "metadata": {},
   "outputs": [
    {
     "data": {
      "text/plain": [
       "[-10, -4, 2, 6, 8]"
      ]
     },
     "execution_count": 75,
     "metadata": {},
     "output_type": "execute_result"
    }
   ],
   "source": [
    "#Filter out the even numbers from the following list and sort them using Lambda.\n",
    "\n",
    "lst = [-4, 2, -3, 6, 3, 8, 11, -10]\n",
    "\n",
    "even = sorted(list(filter(lambda x: x%2==0, lst)))\n",
    "even\n"
   ]
  },
  {
   "cell_type": "code",
   "execution_count": 157,
   "id": "bce7758f",
   "metadata": {},
   "outputs": [
    {
     "data": {
      "text/plain": [
       "[-3, 3, 11]"
      ]
     },
     "execution_count": 157,
     "metadata": {},
     "output_type": "execute_result"
    }
   ],
   "source": [
    "lst = [-4, 2, -3, 6, 3, 8, 11, -10]\n",
    "\n",
    "even = sorted(list(filter(lambda x: x%2!=0, lst)))\n",
    "even"
   ]
  },
  {
   "cell_type": "markdown",
   "id": "4ed43fc3",
   "metadata": {},
   "source": [
    "# exercise 7"
   ]
  },
  {
   "cell_type": "code",
   "execution_count": 77,
   "id": "1095fda0",
   "metadata": {},
   "outputs": [
    {
     "name": "stdout",
     "output_type": "stream",
     "text": [
      "[1, 2, 3, 4, 5, 6, 7, 8, 9, 10]\n",
      "[2, 4, 6, 8, 9]\n",
      "[1, 3, 5, 7, 10]\n"
     ]
    }
   ],
   "source": [
    "#Write a function to remove all elements from a given list present in another list using lambda (and filter?).\n",
    "\n",
    "\n",
    "lst1 = [1, 2, 3, 4, 5, 6, 7, 8, 9, 10]\n",
    "lst2 = [2, 4, 6, 8, 9]\n",
    "\n",
    "def lst3(lst1,lst2):\n",
    "    result = list(filter(lambda x: x not in lst2, lst1))\n",
    "    return result\n",
    "\n",
    "lst1 = [1, 2, 3, 4, 5, 6, 7, 8, 9, 10]\n",
    "lst2 = [2, 4, 6, 8, 9]\n",
    "\n",
    "print(lst1)\n",
    "print(lst2)\n",
    "print(lst3(lst1,lst2))"
   ]
  },
  {
   "cell_type": "markdown",
   "id": "72ac59cd",
   "metadata": {},
   "source": [
    "# exercise 8"
   ]
  },
  {
   "cell_type": "code",
   "execution_count": 81,
   "id": "cf8b7ea8",
   "metadata": {},
   "outputs": [
    {
     "data": {
      "text/plain": [
       "[2, 3, 5, 7]"
      ]
     },
     "execution_count": 81,
     "metadata": {},
     "output_type": "execute_result"
    }
   ],
   "source": [
    "#Using the filter function and lambda, find the values that are common to the two lists below.\n",
    "\n",
    "\n",
    "a = [1,2,3,5,7,9]\n",
    "b = [2,3,5,6,7,8]\n",
    "\n",
    "z = list(filter(lambda x: x in a, b))\n",
    "z"
   ]
  },
  {
   "cell_type": "markdown",
   "id": "65354e53",
   "metadata": {},
   "source": [
    "# exercise 9"
   ]
  },
  {
   "cell_type": "code",
   "execution_count": 84,
   "id": "ff237a37",
   "metadata": {},
   "outputs": [
    {
     "data": {
      "text/plain": [
       "[-2, -3, -5, -8, -10]"
      ]
     },
     "execution_count": 84,
     "metadata": {},
     "output_type": "execute_result"
    }
   ],
   "source": [
    "#Use filter and lambda to return only negative numbers from a list.\n",
    "\n",
    "lst = [2, -2, -3, 4, -5, 6, 7, -8, 9, -10]\n",
    "\n",
    "list(filter(lambda x: x <= 0, lst))"
   ]
  },
  {
   "cell_type": "markdown",
   "id": "7ff57ea4",
   "metadata": {},
   "source": [
    "# exercise 10"
   ]
  },
  {
   "cell_type": "code",
   "execution_count": 159,
   "id": "262ce834",
   "metadata": {},
   "outputs": [
    {
     "data": {
      "text/plain": [
       "[12, 14, 46, 54, 48, 124, 174, 56, 46, 182]"
      ]
     },
     "execution_count": 159,
     "metadata": {},
     "output_type": "execute_result"
    }
   ],
   "source": [
    "#Double the number of each element from the following list (use lambda)\n",
    "\n",
    "lst = [6, 7, 23, 27, 24, 62, 87, 28, 23, 91]\n",
    "\n",
    "list(map(lambda x: x*2, lst))"
   ]
  },
  {
   "cell_type": "markdown",
   "id": "ca2ec5a7",
   "metadata": {},
   "source": [
    "# exercise 11"
   ]
  },
  {
   "cell_type": "code",
   "execution_count": 162,
   "id": "203fbd85",
   "metadata": {},
   "outputs": [
    {
     "data": {
      "text/plain": [
       "[(198979, 'Geneva'),\n",
       " (402762, 'Zurich'),\n",
       " (9002488, 'London'),\n",
       " (3769495, 'Berlin'),\n",
       " (3090508, 'Athens'),\n",
       " (2165423, 'Paris')]"
      ]
     },
     "execution_count": 162,
     "metadata": {},
     "output_type": "execute_result"
    }
   ],
   "source": [
    "#Using sorted() function and lambda sort the tuples in the list based on the last character of the second item.\n",
    "\n",
    "\n",
    "# Cities population\n",
    "lst = [(3090508, \"Athens\"), (9002488, \"London\"), (402762, \"Zurich\"), (198979, \"Geneva\"), (3769495, \"Berlin\"), (2165423, \"Paris\")]\n",
    "\n",
    "sorted_list = sorted(lst, key=lambda x:x[1][-1])\n",
    "\n",
    "sorted_list\n"
   ]
  },
  {
   "cell_type": "code",
   "execution_count": 163,
   "id": "8c24df19",
   "metadata": {},
   "outputs": [
    {
     "data": {
      "text/plain": [
       "[(198979, 'Geneva'),\n",
       " (402762, 'Zurich'),\n",
       " (3769495, 'Berlin'),\n",
       " (9002488, 'London'),\n",
       " (2165423, 'Paris'),\n",
       " (3090508, 'Athens')]"
      ]
     },
     "execution_count": 163,
     "metadata": {},
     "output_type": "execute_result"
    }
   ],
   "source": [
    "sorted(lst, key=lambda x: x[1][::-1])\n"
   ]
  },
  {
   "cell_type": "markdown",
   "id": "30a55de6",
   "metadata": {},
   "source": [
    "# exercise 12"
   ]
  },
  {
   "cell_type": "code",
   "execution_count": 95,
   "id": "4d2f7f24",
   "metadata": {},
   "outputs": [
    {
     "name": "stdout",
     "output_type": "stream",
     "text": [
      "(9002488, 'London')\n",
      "(198979, 'Geneva')\n"
     ]
    }
   ],
   "source": [
    "#Write a Python program to find the maximum and minimum values in the previous list of tuples using lambda function.\n",
    "\n",
    "lst = [(3090508, \"Athens\"), (9002488, \"London\"), (402762, \"Zurich\"), (198979, \"Geneva\"), (3769495, \"Berlin\"), (2165423, \"Paris\")]\n",
    "\n",
    "\n",
    "max_value = max(lst, key=lambda x:x)\n",
    "min_value = min(lst, key=lambda x:x)\n",
    "\n",
    "print(max_value)\n",
    "print(min_value)"
   ]
  },
  {
   "cell_type": "markdown",
   "id": "8864c0b0",
   "metadata": {},
   "source": [
    "# exercise 13"
   ]
  },
  {
   "cell_type": "code",
   "execution_count": 109,
   "id": "86b0d091",
   "metadata": {},
   "outputs": [
    {
     "data": {
      "text/plain": [
       "[4, 67, 8, 32, 21]"
      ]
     },
     "execution_count": 109,
     "metadata": {},
     "output_type": "execute_result"
    }
   ],
   "source": [
    "#Remove values that are not integer from a given list using lambda function\n",
    "lst =  [4,67,8, None, 32, 'Missing', 21, 23.3]\n",
    "\n",
    "new_lst = list(filter(lambda x: type(x)==int, lst))\n",
    "\n",
    "new_lst\n"
   ]
  },
  {
   "cell_type": "markdown",
   "id": "44571b28",
   "metadata": {},
   "source": [
    "# exercise 14"
   ]
  },
  {
   "cell_type": "code",
   "execution_count": 167,
   "id": "47c1894b",
   "metadata": {},
   "outputs": [
    {
     "data": {
      "text/plain": [
       "[4, 8, 21, 23, 32, 67, 'alert', 'missing', 'not found', 'warning']"
      ]
     },
     "execution_count": 167,
     "metadata": {},
     "output_type": "execute_result"
    }
   ],
   "source": [
    "# Write a Python program to sort a mixed list of integers and strings using lambda.\n",
    "\n",
    "\n",
    "lst =  [4,67,8, 'not found', 32, 'missing', 21, 23, 'warning', 'alert']\n",
    "def sort_mixed(lst):\n",
    "    lst.sort(key=lambda x: (isinstance(x, str), x))\n",
    "    return lst\n",
    "\n",
    "sort_mixed(lst)"
   ]
  },
  {
   "cell_type": "markdown",
   "id": "c0389fac",
   "metadata": {},
   "source": [
    "# exercise 15"
   ]
  },
  {
   "cell_type": "code",
   "execution_count": 142,
   "id": "b1cf0405",
   "metadata": {},
   "outputs": [
    {
     "name": "stdout",
     "output_type": "stream",
     "text": [
      "[71.0, 49.833333333333336, 126.0, 58.5]\n"
     ]
    }
   ],
   "source": [
    "#Write a Python program to calculate the average value of numbers in a list of lists using lambda.\n",
    "\n",
    "lst = [[33,4,33,22], [4,23,11,3], [1,22,75,11], [32,14,65,73], [3,2,6,8], [353,234,566,234,653]]\n",
    "\n",
    "new_list=[sum(i)/len(i) for i in list(zip(*lst))]\n",
    "\n",
    "\n",
    "print(new_list)"
   ]
  },
  {
   "cell_type": "code",
   "execution_count": 143,
   "id": "52d0eda4",
   "metadata": {},
   "outputs": [
    {
     "data": {
      "text/plain": [
       "[(33, 4, 1, 32, 3, 353),\n",
       " (4, 23, 22, 14, 2, 234),\n",
       " (33, 11, 75, 65, 6, 566),\n",
       " (22, 3, 11, 73, 8, 234)]"
      ]
     },
     "execution_count": 143,
     "metadata": {},
     "output_type": "execute_result"
    }
   ],
   "source": [
    "x = list(zip(*lst))\n",
    "x"
   ]
  },
  {
   "cell_type": "code",
   "execution_count": 179,
   "id": "6389b299",
   "metadata": {},
   "outputs": [
    {
     "data": {
      "text/plain": [
       "[23.0, 10.25, 27.25, 46.0, 4.75, 408.0]"
      ]
     },
     "execution_count": 179,
     "metadata": {},
     "output_type": "execute_result"
    }
   ],
   "source": [
    "def avr_in_list(lst):\n",
    "    \n",
    "    lst = [[33,4,33,22], [4,23,11,3], [1,22,75,11], [32,14,65,73], [3,2,6,8], [353,234,566,234,653]]\n",
    "    result = list(map(lambda x: sum(x) / len(x), lst))\n",
    "    return result\n",
    "                  \n",
    "avr_in_list(lst)                  "
   ]
  },
  {
   "cell_type": "code",
   "execution_count": 182,
   "id": "8ed9515d",
   "metadata": {},
   "outputs": [
    {
     "data": {
      "text/plain": [
       "True"
      ]
     },
     "execution_count": 182,
     "metadata": {},
     "output_type": "execute_result"
    }
   ],
   "source": [
    "lst =  [4,67,8, 'not found', 32, 'missing', 21, 23, 'warning', 'alert']\n",
    "\n",
    "isinstance(lst,list)\n",
    "\n",
    "\n",
    "# isinstance(*takes the list give(lst),* returns a boolean if it is a string or a list or any datatype)\n",
    "#isinstance(key=lambda x: (isinstance(x, str), x) for every x inside ther list return if it is a str or smth else."
   ]
  }
 ],
 "metadata": {
  "kernelspec": {
   "display_name": "Python 3 (ipykernel)",
   "language": "python",
   "name": "python3"
  },
  "language_info": {
   "codemirror_mode": {
    "name": "ipython",
    "version": 3
   },
   "file_extension": ".py",
   "mimetype": "text/x-python",
   "name": "python",
   "nbconvert_exporter": "python",
   "pygments_lexer": "ipython3",
   "version": "3.8.10"
  }
 },
 "nbformat": 4,
 "nbformat_minor": 5
}
