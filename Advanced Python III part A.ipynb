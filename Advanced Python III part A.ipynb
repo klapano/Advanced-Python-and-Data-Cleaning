{
 "cells": [
  {
   "cell_type": "code",
   "execution_count": 1,
   "id": "89ecbd13",
   "metadata": {},
   "outputs": [
    {
     "data": {
      "text/plain": [
       "True"
      ]
     },
     "execution_count": 1,
     "metadata": {},
     "output_type": "execute_result"
    }
   ],
   "source": [
    "import re\n",
    "\n",
    "string = 'Write a Python program to check that a string contains only lowercase and uppercase characters.'\n",
    "string2 = bool(re.match(r'\\w*[A-Z ]\\w*', string))\n",
    "string2"
   ]
  },
  {
   "cell_type": "markdown",
   "id": "ddc7b2ee",
   "metadata": {},
   "source": [
    "# exercise 2"
   ]
  },
  {
   "cell_type": "code",
   "execution_count": 11,
   "id": "963d993b",
   "metadata": {},
   "outputs": [
    {
     "name": "stdout",
     "output_type": "stream",
     "text": [
      "found match\n"
     ]
    }
   ],
   "source": [
    "#Write a Python program that matches a word at the beginning of a string.\n",
    "import re\n",
    "y = 'Write a Python program that matches a word at the beginning of a string'\n",
    "\n",
    "pattern = re.search(r'^\\w+', y)\n",
    "\n",
    "if pattern:\n",
    "    print('found match')\n",
    "else:\n",
    "    print('not matched')"
   ]
  },
  {
   "cell_type": "markdown",
   "id": "a508eb1e",
   "metadata": {},
   "source": [
    "# exercise 3"
   ]
  },
  {
   "cell_type": "code",
   "execution_count": 13,
   "id": "bcfad5a3",
   "metadata": {},
   "outputs": [
    {
     "name": "stdout",
     "output_type": "stream",
     "text": [
      "found match\n"
     ]
    }
   ],
   "source": [
    "#Write a Python program that matches a word at the end of string\n",
    "import re\n",
    "string = 'Write a Python program that matches a word at the end of string'\n",
    "pattern = re.search(r'\\w+$', string)\n",
    "\n",
    "if pattern:\n",
    "    print('found match')\n",
    "else:\n",
    "    print('not matched')"
   ]
  },
  {
   "cell_type": "markdown",
   "id": "7510330a",
   "metadata": {},
   "source": [
    "# exercise 4"
   ]
  },
  {
   "cell_type": "code",
   "execution_count": 2,
   "id": "ded3d371",
   "metadata": {},
   "outputs": [
    {
     "name": "stdout",
     "output_type": "stream",
     "text": [
      "no match\n"
     ]
    }
   ],
   "source": [
    "#Write a Python program that matches a word containing 'z', not at the start or end of the word. (Matches Brazil but not Zelda)\n",
    "\n",
    "import re\n",
    "\n",
    "string = 'We are in Brazil but not in Zelda'\n",
    "pattern = re.search(r'\\BzZ\\b', string)\n",
    "\n",
    "if pattern:\n",
    "    print('yes match')\n",
    "else:\n",
    "    print('no match')"
   ]
  },
  {
   "cell_type": "markdown",
   "id": "72e2a9cb",
   "metadata": {},
   "source": [
    "# exercise 5"
   ]
  },
  {
   "cell_type": "code",
   "execution_count": 20,
   "id": "5975f3e4",
   "metadata": {},
   "outputs": [
    {
     "name": "stdout",
     "output_type": "stream",
     "text": [
      "false\n"
     ]
    }
   ],
   "source": [
    "#Write a Python program to match a string that contains only upper and lowercase letters.\n",
    "\n",
    "import re\n",
    "\n",
    "string = 'Write a Python program to match a string that contains only upper and lowercase letters'\n",
    "\n",
    "pattern = re.search(r'^[A-Za-z]*$', string)\n",
    "\n",
    "if pattern:\n",
    "    print('true')\n",
    "else:\n",
    "    print('false')"
   ]
  },
  {
   "cell_type": "markdown",
   "id": "df2c36b7",
   "metadata": {},
   "source": [
    "# exercise 6"
   ]
  },
  {
   "cell_type": "code",
   "execution_count": 6,
   "id": "c5c439e9",
   "metadata": {},
   "outputs": [
    {
     "data": {
      "text/plain": [
       "['admissions@footballclub.com']"
      ]
     },
     "execution_count": 6,
     "metadata": {},
     "output_type": "execute_result"
    }
   ],
   "source": [
    "import re\n",
    "\n",
    "string = 'For more information please write to the following email address: admissions@footballclub.com, Mrs Stepanie Smith will be delighted to assist you.'\n",
    "\n",
    "\n",
    "pattern = re.findall(r'\\S+@\\S+\\.\\S+\\b', string)\n",
    "pattern"
   ]
  },
  {
   "cell_type": "code",
   "execution_count": 7,
   "id": "4c9ccc75",
   "metadata": {},
   "outputs": [
    {
     "data": {
      "text/plain": [
       "'admissions@footballclub.com'"
      ]
     },
     "execution_count": 7,
     "metadata": {},
     "output_type": "execute_result"
    }
   ],
   "source": [
    "import re\n",
    "\n",
    "string = 'For more information please write to the following email address: admissions@footballclub.com, Mrs Stepanie Smith will be delighted to assist you.'\n",
    "\n",
    "\n",
    "pattern = re.search(r'\\S+@\\S+\\.\\S+\\b', string)\n",
    "pattern.group()"
   ]
  },
  {
   "cell_type": "markdown",
   "id": "eacacf11",
   "metadata": {},
   "source": [
    "# exercise 7"
   ]
  },
  {
   "cell_type": "code",
   "execution_count": 9,
   "id": "9d79063c",
   "metadata": {},
   "outputs": [
    {
     "name": "stdout",
     "output_type": "stream",
     "text": [
      "invalid email\n"
     ]
    }
   ],
   "source": [
    "#Write an email validating function, returning True or False depending on whether an email address is correctly formatted \n",
    "\n",
    "\n",
    "import re\n",
    "\n",
    "email = 'john.smith@yahoo.com'\n",
    "pattern = r'\\b[A-Za-z0-9._%+-]+\\.[A-Za-z0-9._%+-]@[A-Za-z0-9.%-]+\\.[A-Z|a-z]{4,}\\b'\n",
    "\n",
    "def check(email):\n",
    "    if re.match(pattern,email):\n",
    "        print('valid email')\n",
    "    else:\n",
    "        print('invalid email')\n",
    "        \n",
    "check(email)\n",
    "        \n",
    "    "
   ]
  },
  {
   "cell_type": "code",
   "execution_count": 25,
   "id": "24b24a00",
   "metadata": {},
   "outputs": [
    {
     "name": "stdout",
     "output_type": "stream",
     "text": [
      "valid email\n"
     ]
    }
   ],
   "source": [
    "import re\n",
    "\n",
    "email = 'john.smith@yahoo.com'\n",
    "pattern = r'\\b[A-Za-z0-9._%+-]+@[A-Za-z0-9.%-]+\\.[A-Z|a-z]{2,4}\\b'\n",
    "\n",
    "def check(email):\n",
    "    if re.match(pattern,email):\n",
    "        print('valid email')\n",
    "    else:\n",
    "        print('invalid email')\n",
    "        \n",
    "check(email)"
   ]
  },
  {
   "cell_type": "code",
   "execution_count": 28,
   "id": "0609de37",
   "metadata": {},
   "outputs": [
    {
     "name": "stdout",
     "output_type": "stream",
     "text": [
      "invalid email\n"
     ]
    }
   ],
   "source": [
    "import re\n",
    "\n",
    "email = 'john.smith@yahoo.com'\n",
    "pattern = r'\\b[A-Za-z0-9%+]+@[A-Za-z0-9%]+\\.[A-Z|a-z]\\b'\n",
    "\n",
    "def check(email):\n",
    "    if re.match(pattern,email):\n",
    "        print('valid email')\n",
    "    else:\n",
    "        print('invalid email')\n",
    "        \n",
    "check(email)"
   ]
  },
  {
   "cell_type": "markdown",
   "id": "dac26ff9",
   "metadata": {},
   "source": [
    "# exercise 8"
   ]
  },
  {
   "cell_type": "code",
   "execution_count": 32,
   "id": "3e8ee6a0",
   "metadata": {},
   "outputs": [
    {
     "name": "stdout",
     "output_type": "stream",
     "text": [
      "password invalid\n"
     ]
    }
   ],
   "source": [
    "import re\n",
    "\n",
    "def password_test():\n",
    "    password = 'js25ehgoKL$#/\\@*'\n",
    "    pattern = r'^(?=.*[a-z])(?=.*[A-Z])(?=.*\\d)(?=.*[$#/\\@*]){8,20}$'\n",
    "    \n",
    "    comp = re.compile(pattern)\n",
    "    s = re.search(comp,password)\n",
    "    \n",
    "    if s:\n",
    "        print('password is valid')\n",
    "    else:\n",
    "        print('password invalid')\n",
    "        \n",
    "        \n",
    "password_test()       "
   ]
  },
  {
   "cell_type": "code",
   "execution_count": 13,
   "id": "e7c99866",
   "metadata": {},
   "outputs": [
    {
     "name": "stdout",
     "output_type": "stream",
     "text": [
      "password invalid\n"
     ]
    }
   ],
   "source": [
    "import re\n",
    "\n",
    "def password_test():\n",
    "    password = 'p@ssw0rd'\n",
    "    pattern = r'(?=.*[a-z])(?=.*[A-Z])(?=.*\\d)(?=.*[$#/\\@*]){8,20}'\n",
    "    \n",
    "    comp = re.compile(pattern)\n",
    "    s = re.search(comp,password)\n",
    "    \n",
    "    if s:\n",
    "        print('password is valid')\n",
    "    else:\n",
    "        print('password invalid')\n",
    "        \n",
    "        \n",
    "password_test()       "
   ]
  },
  {
   "cell_type": "code",
   "execution_count": 34,
   "id": "09436cce",
   "metadata": {},
   "outputs": [
    {
     "name": "stdout",
     "output_type": "stream",
     "text": [
      "time.struct_time(tm_year=2017, tm_mon=4, tm_mday=30, tm_hour=16, tm_min=48, tm_sec=52, tm_wday=6, tm_yday=120, tm_isdst=1)\n"
     ]
    }
   ],
   "source": [
    "#Unix Timestamps\n",
    "#Print the difference between a given UNIX Timestamp and the current UNIX Timestamp as human-readable time. (Given timestamp: 1493560132)\n",
    "\n",
    "\n",
    "\n",
    "import time\n",
    "\n",
    "unix_timestamp = int('1493560132')\n",
    "local_time = time.localtime(unix_timestamp)\n",
    "\n",
    "print(local_time)"
   ]
  },
  {
   "cell_type": "code",
   "execution_count": 21,
   "id": "b536bfb9",
   "metadata": {},
   "outputs": [
    {
     "name": "stdout",
     "output_type": "stream",
     "text": [
      "2017-04-30 16:48:52\n"
     ]
    }
   ],
   "source": [
    "import datetime\n",
    "y = datetime.datetime.fromtimestamp(int(\"1493560132\")).strftime('%Y-%m-%d %H:%M:%S')\n",
    "print(y)"
   ]
  },
  {
   "cell_type": "code",
   "execution_count": null,
   "id": "3e47acd0",
   "metadata": {},
   "outputs": [],
   "source": []
  }
 ],
 "metadata": {
  "kernelspec": {
   "display_name": "Python 3 (ipykernel)",
   "language": "python",
   "name": "python3"
  },
  "language_info": {
   "codemirror_mode": {
    "name": "ipython",
    "version": 3
   },
   "file_extension": ".py",
   "mimetype": "text/x-python",
   "name": "python",
   "nbconvert_exporter": "python",
   "pygments_lexer": "ipython3",
   "version": "3.8.10"
  }
 },
 "nbformat": 4,
 "nbformat_minor": 5
}
