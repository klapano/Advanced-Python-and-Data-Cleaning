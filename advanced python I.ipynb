{
 "cells": [
  {
   "cell_type": "markdown",
   "id": "8e66d60b",
   "metadata": {},
   "source": [
    "# exercise 1"
   ]
  },
  {
   "cell_type": "code",
   "execution_count": 18,
   "id": "f1b890f0",
   "metadata": {},
   "outputs": [
    {
     "data": {
      "text/plain": [
       "[100.0, 92.0, 98.0, 100.0]"
      ]
     },
     "execution_count": 18,
     "metadata": {},
     "output_type": "execute_result"
    }
   ],
   "source": [
    "#Change Alice’s grades to A,B,C,D,F for each grade in the list (hint: use enumerate!)\n",
    "\n",
    "\n",
    "\n",
    "alice = {\n",
    " \"name\": \"Alice\",\n",
    " \"homework\": [100.0, 92.0, 98.0, 100.0],\n",
    " \"quizzes\": [82.0, 83.0, 91.0],\n",
    " \"tests\": [89.0, 97.0]\n",
    "}\n",
    "\n",
    "\n",
    "\n",
    "x = alice['homework']\n",
    "x"
   ]
  },
  {
   "cell_type": "code",
   "execution_count": 19,
   "id": "ce9aef33",
   "metadata": {},
   "outputs": [
    {
     "name": "stdout",
     "output_type": "stream",
     "text": [
      "0 100.0\n",
      "1 92.0\n",
      "2 98.0\n",
      "3 100.0\n"
     ]
    }
   ],
   "source": [
    "for index, elem in enumerate(x):\n",
    "    print(index,elem)"
   ]
  },
  {
   "cell_type": "code",
   "execution_count": 21,
   "id": "c47f8760",
   "metadata": {},
   "outputs": [],
   "source": [
    "def convert_grade(x):\n",
    "    if x>90:\n",
    "        elem = ('A')\n",
    "    else:\n",
    "        elem = ('B')\n",
    "    return elem      "
   ]
  },
  {
   "cell_type": "code",
   "execution_count": 25,
   "id": "4f88d044",
   "metadata": {},
   "outputs": [
    {
     "name": "stdout",
     "output_type": "stream",
     "text": [
      "0 100.0 A\n",
      "1 92.0 A\n",
      "2 98.0 A\n",
      "3 100.0 A\n"
     ]
    }
   ],
   "source": [
    "for index, elem in enumerate(x):\n",
    "    print(index, elem, convert_grade(elem))"
   ]
  },
  {
   "cell_type": "markdown",
   "id": "c9358019",
   "metadata": {},
   "source": [
    "# exercise 2"
   ]
  },
  {
   "cell_type": "code",
   "execution_count": 33,
   "id": "8013395e",
   "metadata": {},
   "outputs": [
    {
     "data": {
      "text/plain": [
       "['mary@gmail.com', 'hari@yahoo.com', 'sophia@qg.com', 'evan@yahoo.com']"
      ]
     },
     "execution_count": 33,
     "metadata": {},
     "output_type": "execute_result"
    }
   ],
   "source": [
    "#Use map function to make the email from the following list lowercase:\n",
    "\n",
    "\n",
    "lst = [\"Mary@GMAIL.com\", \"hari@YaHoo.com\", \"SopHIA@qg.com\", \"EVan@YahoO.COM\"]\n",
    "\n",
    "\n",
    "list(map(lambda x: x.lower(),lst))\n",
    "\n"
   ]
  },
  {
   "cell_type": "code",
   "execution_count": 34,
   "id": "39abe4e0",
   "metadata": {},
   "outputs": [
    {
     "data": {
      "text/plain": [
       "['mary@gmail.com', 'hari@yahoo.com', 'sophia@qg.com', 'evan@yahoo.com']"
      ]
     },
     "execution_count": 34,
     "metadata": {},
     "output_type": "execute_result"
    }
   ],
   "source": [
    "list(map(str.lower,lst))"
   ]
  },
  {
   "cell_type": "markdown",
   "id": "b93a5730",
   "metadata": {},
   "source": [
    "# exercise 3"
   ]
  },
  {
   "cell_type": "code",
   "execution_count": 41,
   "id": "c74d33d0",
   "metadata": {},
   "outputs": [
    {
     "data": {
      "text/plain": [
       "[7, 9, 4, 13, 3, 3, 2, 4]"
      ]
     },
     "execution_count": 41,
     "metadata": {},
     "output_type": "execute_result"
    }
   ],
   "source": [
    "def length(string):\n",
    "    return len,string.split()\n",
    "\n",
    "x = list(map(len,string.split()))\n",
    "\n",
    "string = 'Quantum computing will revolutionize the way we work'\n",
    "\n",
    "x\n"
   ]
  },
  {
   "cell_type": "markdown",
   "id": "9b6df664",
   "metadata": {},
   "source": [
    "# exercise 4"
   ]
  },
  {
   "cell_type": "code",
   "execution_count": 44,
   "id": "9c00319a",
   "metadata": {},
   "outputs": [
    {
     "data": {
      "text/plain": [
       "[['alice', 67], ['nick', 86]]"
      ]
     },
     "execution_count": 44,
     "metadata": {},
     "output_type": "execute_result"
    }
   ],
   "source": [
    "#Use filter function to pass every student scored above 60 from the following list:\n",
    "\n",
    "def students(x):\n",
    "    return x[1] > 60\n",
    "\n",
    "scores = [['john', 45],['alice',67],['tyler',56],['nick',86]]\n",
    "de = list(filter(students,scores))\n",
    "\n",
    "de"
   ]
  },
  {
   "cell_type": "markdown",
   "id": "55ed83d5",
   "metadata": {},
   "source": [
    "# exercise 5"
   ]
  },
  {
   "cell_type": "code",
   "execution_count": 46,
   "id": "6387601a",
   "metadata": {},
   "outputs": [
    {
     "data": {
      "text/plain": [
       "{'tonny': 34, 'sylvia': 56}"
      ]
     },
     "execution_count": 46,
     "metadata": {},
     "output_type": "execute_result"
    }
   ],
   "source": [
    "#Use filter function to the following dictionary to filter out all users with lower times than 100:\n",
    "\n",
    "def users(x):\n",
    "    return x < 100\n",
    "\n",
    "user_time = {'john':410, 'nadia': 700, 'tonny': 34, 'sylvia': 56, 'anna': 116}\n",
    "\n",
    "new_users = dict(filter(lambda x: x[1] < 100, user_time.items()))\n",
    "\n",
    "new_users"
   ]
  },
  {
   "cell_type": "markdown",
   "id": "adaae3c4",
   "metadata": {},
   "source": [
    "# exercise 5"
   ]
  },
  {
   "cell_type": "code",
   "execution_count": 53,
   "id": "f38efd0d",
   "metadata": {},
   "outputs": [
    {
     "data": {
      "text/plain": [
       "{'tonny': 34, 'sylvia': 56}"
      ]
     },
     "execution_count": 53,
     "metadata": {},
     "output_type": "execute_result"
    }
   ],
   "source": [
    "def users(x):\n",
    "    return x[1] < 100\n",
    "    \n",
    "    \n",
    "user_time = {'john':410, 'nadia': 700, 'tonny': 34, 'sylvia': 56, 'anna': 116}\n",
    "\n",
    "new_users = dict(filter(users, user_time.items()))\n",
    "\n",
    "new_users\n"
   ]
  },
  {
   "cell_type": "markdown",
   "id": "6a054f91",
   "metadata": {},
   "source": [
    "# exercise 6"
   ]
  },
  {
   "cell_type": "code",
   "execution_count": 54,
   "id": "8ab0a416",
   "metadata": {},
   "outputs": [
    {
     "data": {
      "text/plain": [
       "[('lizea', None), ('greg', None)]"
      ]
     },
     "execution_count": 54,
     "metadata": {},
     "output_type": "execute_result"
    }
   ],
   "source": [
    "#Filter out the patients with not measured height:\n",
    "\n",
    "def patients(x):\n",
    "    return x[1] == None\n",
    "\n",
    "\n",
    "patient_height = {'john': 167, 'lizea': None, 'bob': 174, 'greg': None, 'hans': 193}\n",
    "\n",
    "new = list(filter(patients,patient_height.items()))\n",
    "\n",
    "new"
   ]
  },
  {
   "cell_type": "markdown",
   "id": "c5149fae",
   "metadata": {},
   "source": [
    "# exercise 7"
   ]
  },
  {
   "cell_type": "code",
   "execution_count": 1,
   "id": "5333b68a",
   "metadata": {},
   "outputs": [
    {
     "data": {
      "text/plain": [
       "{'lloyd': {'name': 'Lloyd',\n",
       "  'homework': [90.0, 97.0, 75.0, 92.0],\n",
       "  'quizzes': [88.0, 40.0, 94.0],\n",
       "  'tests': [75.0, 90.0]},\n",
       " 'alice': {'name': 'Alice',\n",
       "  'homework': [100.0, 92.0, 98.0, 100.0],\n",
       "  'quizzes': [82.0, 83.0, 91.0],\n",
       "  'tests': [89.0, 97.0]},\n",
       " 'tyler': {'name': 'Tyler',\n",
       "  'homework': [0.0, 87.0, 25.0, 22.0],\n",
       "  'quizzes': [0.0, 75.0, 78.0],\n",
       "  'tests': [100.0, 100.0]}}"
      ]
     },
     "execution_count": 1,
     "metadata": {},
     "output_type": "execute_result"
    }
   ],
   "source": [
    "students = \"{'lloyd': {'name': 'Lloyd', 'homework': [90.0, 97.0, 75.0, 92.0], 'quizzes': [88.0, 40.0, 94.0], 'tests': [75.0, 90.0]}, 'alice': {'name': 'Alice', 'homework': [100.0, 92.0, 98.0, 100.0], 'quizzes': [82.0, 83.0, 91.0], 'tests': [89.0, 97.0]}, 'tyler': {'name': 'Tyler', 'homework': [0.0, 87.0, 25.0, 22.0], 'quizzes': [0.0, 75.0, 78.0], 'tests': [100.0, 100.0]}}\"\n",
    "\n",
    "students = eval(students)  #Take the following string, convert it to a dictionary.\n",
    "students"
   ]
  },
  {
   "cell_type": "code",
   "execution_count": 29,
   "id": "d63591aa",
   "metadata": {},
   "outputs": [
    {
     "data": {
      "text/plain": [
       "{'lloyd': {'homework': 88.5, 'quizzes': 74.0, 'tests': 82.5},\n",
       " 'alice': {'homework': 88.5, 'quizzes': 74.0, 'tests': 82.5},\n",
       " 'tyler': {'homework': 88.5, 'quizzes': 74.0, 'tests': 82.5}}"
      ]
     },
     "execution_count": 29,
     "metadata": {},
     "output_type": "execute_result"
    }
   ],
   "source": [
    "student_grades = {\"lloyd\":{},\"alice\":{},\"tyler\":{}}\n",
    "\n",
    "for student in students.keys():\n",
    "    value = students[key]\n",
    "    for j in value:\n",
    "        if j != 'name':\n",
    "            avr_grades = sum(value[j])/len(value[j])\n",
    "            student_grades[student].update({j:avr_grades})\n",
    "            \n",
    "student_grades           \n",
    "    "
   ]
  },
  {
   "cell_type": "code",
   "execution_count": 31,
   "id": "160f866f",
   "metadata": {},
   "outputs": [
    {
     "data": {
      "text/plain": [
       "{'homework': 88.5, 'quizzes': 74.0, 'tests': 82.5}"
      ]
     },
     "execution_count": 31,
     "metadata": {},
     "output_type": "execute_result"
    }
   ],
   "source": [
    "students_grades[\"lloyd\"]"
   ]
  },
  {
   "cell_type": "code",
   "execution_count": 34,
   "id": "8c0f2b42",
   "metadata": {},
   "outputs": [
    {
     "data": {
      "text/plain": [
       "{'homework': 97.5, 'quizzes': 85.33333333333333, 'tests': 93.0}"
      ]
     },
     "execution_count": 34,
     "metadata": {},
     "output_type": "execute_result"
    }
   ],
   "source": [
    "students_grades[\"alice\"]"
   ]
  },
  {
   "cell_type": "code",
   "execution_count": 33,
   "id": "46c3658f",
   "metadata": {},
   "outputs": [
    {
     "data": {
      "text/plain": [
       "{'homework': 33.5, 'quizzes': 51.0, 'tests': 100.0}"
      ]
     },
     "execution_count": 33,
     "metadata": {},
     "output_type": "execute_result"
    }
   ],
   "source": [
    "students_grades[\"tyler\"]"
   ]
  },
  {
   "cell_type": "code",
   "execution_count": 53,
   "id": "bd88d72a",
   "metadata": {},
   "outputs": [
    {
     "name": "stdout",
     "output_type": "stream",
     "text": [
      "83.375\n"
     ]
    }
   ],
   "source": [
    "final_grade = 0\n",
    "for item in students_grades[\"lloyd\"]:\n",
    "    if item == 'homework':\n",
    "        final_grade = final_grade + 2*students_grades[\"lloyd\"][item]\n",
    "    else:\n",
    "        final_grade = final_grade + students_grades[\"lloyd\"][item]\n",
    "        \n",
    "print(final_grade/4)        "
   ]
  },
  {
   "cell_type": "code",
   "execution_count": 60,
   "id": "50719305",
   "metadata": {},
   "outputs": [
    {
     "name": "stdout",
     "output_type": "stream",
     "text": [
      "93.33333333333333\n"
     ]
    }
   ],
   "source": [
    "x = 0\n",
    "for i in students_grades[\"alice\"]:\n",
    "    if i == 'homework':\n",
    "        x =x + 2*students_grades[\"alice\"][i]\n",
    "    else:\n",
    "        x =x + students_grades[\"alice\"][i]\n",
    "print(x/4)"
   ]
  },
  {
   "cell_type": "code",
   "execution_count": 70,
   "id": "f6a84c8d",
   "metadata": {},
   "outputs": [
    {
     "name": "stdout",
     "output_type": "stream",
     "text": [
      "{'lloyd': 83.375, 'alice': 93.33333333333333, 'tyler': 54.5}\n"
     ]
    }
   ],
   "source": [
    "for student in students_grades.keys():\n",
    "    y = 0\n",
    "    for elem in students_grades[student]:\n",
    "        if elem == 'homework':\n",
    "            y += 2*students_grades[student][elem]\n",
    "        else:\n",
    "            y += students_grades[student][elem]\n",
    "    students_grades[student] = y/4\n",
    "    \n",
    "print(students_grades)    "
   ]
  },
  {
   "cell_type": "code",
   "execution_count": 66,
   "id": "096c076a",
   "metadata": {},
   "outputs": [
    {
     "name": "stdout",
     "output_type": "stream",
     "text": [
      ",#c$3%b,D}5)&1,a\n"
     ]
    }
   ],
   "source": [
    "import random \n",
    "lower = \"a,b,c,d\"\n",
    "upper = \"A,B,C,D\"\n",
    "numbers = \"0123456789\"\n",
    "symbols = \"[]{}()*&^%$#@!\"\n",
    "\n",
    "all = lower + upper + numbers + symbols\n",
    "length = 16\n",
    "password = \"\".join(random.sample (all,length))\n",
    "\n",
    "print(password)"
   ]
  },
  {
   "cell_type": "code",
   "execution_count": 74,
   "id": "1db7594b",
   "metadata": {},
   "outputs": [],
   "source": [
    "def convert_grades(f):\n",
    "    if f >= 90:\n",
    "        grade = 'A'\n",
    "    elif 80 <= f < 90:\n",
    "        grade = 'B'\n",
    "    elif 70 <= f < 80:\n",
    "        grade = 'C'\n",
    "    elif 60 <= f < 70:\n",
    "        grade = 'D'\n",
    "    else:\n",
    "        grade = 'F'\n",
    "    return grade\n",
    "\n"
   ]
  },
  {
   "cell_type": "code",
   "execution_count": 79,
   "id": "d72e0008",
   "metadata": {},
   "outputs": [
    {
     "data": {
      "text/plain": [
       "[('lloyd', 'B'), ('alice', 'A')]"
      ]
     },
     "execution_count": 79,
     "metadata": {},
     "output_type": "execute_result"
    }
   ],
   "source": [
    "list(filter(lambda x: pass_fail(x[1]), student_grades.items()))\n",
    "[('lloyd', 'B'), ('alice', 'A')]"
   ]
  },
  {
   "cell_type": "code",
   "execution_count": null,
   "id": "ccd98e38",
   "metadata": {},
   "outputs": [],
   "source": []
  }
 ],
 "metadata": {
  "kernelspec": {
   "display_name": "Python 3 (ipykernel)",
   "language": "python",
   "name": "python3"
  },
  "language_info": {
   "codemirror_mode": {
    "name": "ipython",
    "version": 3
   },
   "file_extension": ".py",
   "mimetype": "text/x-python",
   "name": "python",
   "nbconvert_exporter": "python",
   "pygments_lexer": "ipython3",
   "version": "3.8.10"
  }
 },
 "nbformat": 4,
 "nbformat_minor": 5
}
